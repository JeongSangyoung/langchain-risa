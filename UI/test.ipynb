{
 "cells": [
  {
   "cell_type": "code",
   "execution_count": 2,
   "metadata": {},
   "outputs": [
    {
     "name": "stdout",
     "output_type": "stream",
     "text": [
      "['ace', 'acf', 'ade', 'adf', 'bce', 'bcf', 'bde', 'bdf']\n"
     ]
    }
   ],
   "source": [
    "import itertools\n",
    "\n",
    "# Example list of lists\n",
    "data = [['a', 'b'], ['c', 'd'], ['e', 'f']]\n",
    "\n",
    "# Generate all possible combinations\n",
    "combinations = itertools.product(*data)\n",
    "\n",
    "# Convert each combination tuple into a concatenated string\n",
    "combinations = [''.join(combination) for combination in combinations]\n",
    "\n",
    "print(combinations)"
   ]
  },
  {
   "cell_type": "code",
   "execution_count": null,
   "metadata": {},
   "outputs": [],
   "source": []
  }
 ],
 "metadata": {
  "kernelspec": {
   "display_name": ".venv",
   "language": "python",
   "name": "python3"
  },
  "language_info": {
   "codemirror_mode": {
    "name": "ipython",
    "version": 3
   },
   "file_extension": ".py",
   "mimetype": "text/x-python",
   "name": "python",
   "nbconvert_exporter": "python",
   "pygments_lexer": "ipython3",
   "version": "3.10.9"
  }
 },
 "nbformat": 4,
 "nbformat_minor": 2
}
